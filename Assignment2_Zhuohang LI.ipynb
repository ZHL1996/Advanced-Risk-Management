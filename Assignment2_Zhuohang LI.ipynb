{
 "cells": [
  {
   "cell_type": "markdown",
   "metadata": {
    "id": "kknqZZRPtK0t"
   },
   "source": [
    "# Advanced Risk Management – Assignment 2\n",
    "\n",
    "**Deadline**:  14 March 2022, 18.00h.\n",
    "\n",
    "| |Name |Student number|Email|\n",
    "|:-|:----|:-------------|:----|\n",
    "|1.| Zhuohang Li |  114205912      | zhuohang.li2@student.uva.nl    |\n"
   ]
  },
  {
   "cell_type": "markdown",
   "metadata": {
    "id": "vyVcGIhkzW1b"
   },
   "source": [
    "## Introduction\n",
    "The file `data_AEX_FTSE.xlsx` contains daily log returns of the AEX and FTSE index returns for the period 5 January 2000 - 12 March 2020. The log return of asset $i$ on day $t$ is defined as $R_{i,t} = 100 \\cdot \\log(\\frac{S_{i,t}}{S_{i,t-1}})$, with $S_{i,t}$ the price of asset $i$ on date $t$.\n",
    "\n",
    " In this assignment you are asked to calculate multi-period Value-at-Risk forecasts through Monte Carlo simulation (MCS). First, we obtain the VaR for the AEX index. Subsequently, we employ copula methods to obtain the VaR for a portfolio of two assets."
   ]
  },
  {
   "cell_type": "markdown",
   "metadata": {
    "id": "4v62A5fYBUgU"
   },
   "source": [
    "## Question 1: Load, clean, and model data [20 pts.]\n",
    "First, install and import the relevant libraries:"
   ]
  },
  {
   "cell_type": "code",
   "execution_count": 1,
   "metadata": {
    "colab": {
     "base_uri": "https://localhost:8080/"
    },
    "id": "V2b_YQlgBYt9",
    "outputId": "241c0349-db14-47ca-b6e6-064f0bce2562"
   },
   "outputs": [],
   "source": [
    "#!pip install arch             # uncomment for installing the arch package\n",
    "import numpy as np\n",
    "import os\n",
    "import pandas as pd\n",
    "import datetime as dt\n",
    "import matplotlib.pyplot as plt\n",
    "import scipy.stats as stats\n",
    "import statsmodels.api as sm\n",
    "import statsmodels.formula.api as smf\n",
    "from arch import arch_model\n",
    "from statsmodels.graphics.tsaplots import plot_acf\n",
    "import seaborn as sns"
   ]
  },
  {
   "cell_type": "markdown",
   "metadata": {
    "id": "1m5W_Ks1CNUX"
   },
   "source": [
    "Import the data in a DataFrame. The data is already transformed using methods that were used in Assignment 1 as well. Uncomment and adapt the lines necessary to mount the drive and change the path."
   ]
  },
  {
   "cell_type": "code",
   "execution_count": 2,
   "metadata": {
    "colab": {
     "base_uri": "https://localhost:8080/",
     "height": 237
    },
    "id": "uDThtdbZz_KU",
    "outputId": "f056e40c-fe64-4b7b-f751-ac13d31e5416"
   },
   "outputs": [
    {
     "data": {
      "text/html": [
       "<div>\n",
       "<style scoped>\n",
       "    .dataframe tbody tr th:only-of-type {\n",
       "        vertical-align: middle;\n",
       "    }\n",
       "\n",
       "    .dataframe tbody tr th {\n",
       "        vertical-align: top;\n",
       "    }\n",
       "\n",
       "    .dataframe thead th {\n",
       "        text-align: right;\n",
       "    }\n",
       "</style>\n",
       "<table border=\"1\" class=\"dataframe\">\n",
       "  <thead>\n",
       "    <tr style=\"text-align: right;\">\n",
       "      <th></th>\n",
       "      <th>R_AEX</th>\n",
       "      <th>R_FTSE</th>\n",
       "    </tr>\n",
       "    <tr>\n",
       "      <th>Date</th>\n",
       "      <th></th>\n",
       "      <th></th>\n",
       "    </tr>\n",
       "  </thead>\n",
       "  <tbody>\n",
       "    <tr>\n",
       "      <th>2020-03-06</th>\n",
       "      <td>-3.967831</td>\n",
       "      <td>-3.689551</td>\n",
       "    </tr>\n",
       "    <tr>\n",
       "      <th>2020-03-09</th>\n",
       "      <td>-8.074168</td>\n",
       "      <td>-7.668863</td>\n",
       "    </tr>\n",
       "    <tr>\n",
       "      <th>2020-03-10</th>\n",
       "      <td>-1.059273</td>\n",
       "      <td>-0.240360</td>\n",
       "    </tr>\n",
       "    <tr>\n",
       "      <th>2020-03-11</th>\n",
       "      <td>-0.586694</td>\n",
       "      <td>-1.932034</td>\n",
       "    </tr>\n",
       "    <tr>\n",
       "      <th>2020-03-12</th>\n",
       "      <td>-10.638548</td>\n",
       "      <td>-10.136507</td>\n",
       "    </tr>\n",
       "  </tbody>\n",
       "</table>\n",
       "</div>"
      ],
      "text/plain": [
       "                R_AEX     R_FTSE\n",
       "Date                            \n",
       "2020-03-06  -3.967831  -3.689551\n",
       "2020-03-09  -8.074168  -7.668863\n",
       "2020-03-10  -1.059273  -0.240360\n",
       "2020-03-11  -0.586694  -1.932034\n",
       "2020-03-12 -10.638548 -10.136507"
      ]
     },
     "execution_count": 2,
     "metadata": {},
     "output_type": "execute_result"
    }
   ],
   "source": [
    "# from google.colab import drive\n",
    "# drive.mount('/content/drive')\n",
    "# path = '/content/drive/...'    # change path to your working directory\n",
    "# os.chdir(path)\n",
    "\n",
    "df = pd.read_excel('data_AEX_FTSE.xlsx') \n",
    "df = df.set_index(['Date']) # set 'Date' column as index\n",
    "\n",
    "R_AEX = df['R_AEX']\n",
    "R_FTSE = df['R_FTSE']\n",
    "\n",
    "df.tail()"
   ]
  },
  {
   "cell_type": "markdown",
   "metadata": {
    "id": "kityY-O2LB4h"
   },
   "source": [
    "Suppose you are a risk manager and it is currently just after closing time of the trading day 12 March 2020, i.e. we are at the end of period $t=T$, with $T$ indicating 12 March 2020. You are asked to calculate the 10-day VaR on the AEX index, i.e. $VaR^p_{T+1:T+K}$, with horizon $K=10$ trading days. After some thought you decide to model the index with a GARCH model, and use Monte Carlo Simulation to obtain the 10-day VaR.\n",
    "\n",
    "Estimate a GARCH(1,1) model, with constant mean return and standardized $t$ distributed shocks, for the AEX index returns. \n",
    "\n",
    "Plot the volatility series and analyze the shocks. Also obtain the one-day-ahead volatility forecast for 13 March 2021. Discuss your results. Can you attribute certain economic events to your observations for 12 March 2020?\n",
    "\n",
    "Notes: \n",
    "\n",
    "* By specifying `dist = ` in the `arch_model` function we can change the distribution of the shocks. See the documentation at https://arch.readthedocs.io.\n",
    "* GARCH model residuals can be obtain from the `.resid` attribute belonging to the fitted model (which is generated by the `.fit()` method). Conditional volatilities can be obtained similarly from the `.conditional_volatility` attribute. \n",
    "* The 1-day conditional variance forecast (note: variance instead of volatility) can be obtained as `x.forecast().variance['h.1']['2020-03-12']`, where `x` is the fitted model object, and the dates index refers to the date the forecast is made (so here we generate a forecast at the end of 12 March and forecast one-day ahead for the date 13 March.)"
   ]
  },
  {
   "cell_type": "code",
   "execution_count": 3,
   "metadata": {
    "colab": {
     "base_uri": "https://localhost:8080/",
     "height": 1000
    },
    "id": "rZvqwr1FLReZ",
    "outputId": "10c1a498-4b01-41b9-ee2e-72322345f573",
    "scrolled": true
   },
   "outputs": [
    {
     "name": "stdout",
     "output_type": "stream",
     "text": [
      "Iteration:      1,   Func. Count:      7,   Neg. LLF: 429355.5094369227\n",
      "Iteration:      2,   Func. Count:     18,   Neg. LLF: 171196.14422281896\n",
      "Iteration:      3,   Func. Count:     26,   Neg. LLF: 14185.864751908983\n",
      "Iteration:      4,   Func. Count:     34,   Neg. LLF: 13014.748047720304\n",
      "Iteration:      5,   Func. Count:     41,   Neg. LLF: 7553.150451141046\n",
      "Iteration:      6,   Func. Count:     48,   Neg. LLF: 12896.834970170574\n",
      "Iteration:      7,   Func. Count:     55,   Neg. LLF: 7515.056776652081\n",
      "Iteration:      8,   Func. Count:     62,   Neg. LLF: 7511.913498937338\n",
      "Iteration:      9,   Func. Count:     69,   Neg. LLF: 7511.1601893460775\n",
      "Iteration:     10,   Func. Count:     75,   Neg. LLF: 7511.099164113428\n",
      "Iteration:     11,   Func. Count:     81,   Neg. LLF: 7511.097961892613\n",
      "Iteration:     12,   Func. Count:     87,   Neg. LLF: 7511.097801918042\n",
      "Iteration:     13,   Func. Count:     93,   Neg. LLF: 7511.097799489227\n",
      "Iteration:     14,   Func. Count:     98,   Neg. LLF: 7511.097799489229\n",
      "Optimization terminated successfully    (Exit mode 0)\n",
      "            Current function value: 7511.097799489227\n",
      "            Iterations: 14\n",
      "            Function evaluations: 98\n",
      "            Gradient evaluations: 14\n",
      "                        Constant Mean - GARCH Model Results                         \n",
      "====================================================================================\n",
      "Dep. Variable:                        R_AEX   R-squared:                       0.000\n",
      "Mean Model:                   Constant Mean   Adj. R-squared:                  0.000\n",
      "Vol Model:                            GARCH   Log-Likelihood:               -7511.10\n",
      "Distribution:      Standardized Student's t   AIC:                           15032.2\n",
      "Method:                  Maximum Likelihood   BIC:                           15064.9\n",
      "                                              No. Observations:                 5070\n",
      "Date:                      Mon, Mar 14 2022   Df Residuals:                     5069\n",
      "Time:                              15:09:05   Df Model:                            1\n",
      "                                 Mean Model                                 \n",
      "============================================================================\n",
      "                 coef    std err          t      P>|t|      95.0% Conf. Int.\n",
      "----------------------------------------------------------------------------\n",
      "mu             0.0559  1.223e-02      4.576  4.739e-06 [3.199e-02,7.991e-02]\n",
      "                              Volatility Model                              \n",
      "============================================================================\n",
      "                 coef    std err          t      P>|t|      95.0% Conf. Int.\n",
      "----------------------------------------------------------------------------\n",
      "omega          0.0178  4.240e-03      4.195  2.726e-05 [9.477e-03,2.610e-02]\n",
      "alpha[1]       0.1114  1.357e-02      8.211  2.188e-16   [8.482e-02,  0.138]\n",
      "beta[1]        0.8824  1.349e-02     65.397      0.000     [  0.856,  0.909]\n",
      "                              Distribution                              \n",
      "========================================================================\n",
      "                 coef    std err          t      P>|t|  95.0% Conf. Int.\n",
      "------------------------------------------------------------------------\n",
      "nu             7.6350      0.747     10.224  1.543e-24 [  6.171,  9.099]\n",
      "========================================================================\n",
      "\n",
      "Covariance estimator: robust\n"
     ]
    },
    {
     "data": {
      "image/png": "[encoded data removed]",
      "text/plain": [
       "<Figure size 432x288 with 1 Axes>"
      ]
     },
     "metadata": {
      "needs_background": "light"
     },
     "output_type": "display_data"
    },
    {
     "data": {
      "image/png": "[encoded data removed]",
      "text/plain": [
       "<Figure size 432x288 with 1 Axes>"
      ]
     },
     "metadata": {
      "needs_background": "light"
     },
     "output_type": "display_data"
    },
    {
     "data": {
      "image/png": "[encoded data removed]",
      "text/plain": [
       "<Figure size 432x288 with 1 Axes>"
      ]
     },
     "metadata": {
      "needs_background": "light"
     },
     "output_type": "display_data"
    },
    {
     "name": "stdout",
     "output_type": "stream",
     "text": [
      "21.069755572745173\n"
     ]
    },
    {
     "name": "stderr",
     "output_type": "stream",
     "text": [
      "/Users/a32294/opt/anaconda3/lib/python3.8/site-packages/arch/__future__/_utility.py:11: FutureWarning: \n",
      "The default for reindex is True. After September 2021 this will change to\n",
      "False. Set reindex to True or False to silence this message. Alternatively,\n",
      "you can use the import comment\n",
      "\n",
      "from arch.__future__ import reindexing\n",
      "\n",
      "to globally set reindex to True and silence this warning.\n",
      "\n",
      "  warnings.warn(\n"
     ]
    }
   ],
   "source": [
    "# Estimating the volatility use GARCH Model with specifying standardized t distributed shocks\n",
    "am=arch_model(R_AEX,dist='studentst')\n",
    "res=am.fit()\n",
    "print(res.summary())\n",
    "#obtain conditional_volatility \n",
    "sig=res.conditional_volatility\n",
    "#plot the volatility seires\n",
    "sig.plot()\n",
    "plt.title('volatility series')\n",
    "plt.show()\n",
    "#analyze the shocks\n",
    "#1.check for the volatility clustering\n",
    "z=res.resid\n",
    "shock=z/sig\n",
    "shock.plot()\n",
    "plt.title('shocks')\n",
    "plt.show()\n",
    "\n",
    "# 2.Plot autocorrelation function of standardized residuals: to check whether some heteroscedasticity is still there\n",
    "plot_acf(shock**2, lags=np.arange(1,51))\n",
    "plt.title('Figure 5: Autocorrelation function of squared shocks, GARCH(1,1)')\n",
    "plt.xlabel('Lags')\n",
    "plt.ylabel('ACF')\n",
    "plt.show()\n",
    "#obtain the variance forecast\n",
    "var=res.forecast().variance['h.1']['2020-03-12']\n",
    "print(var)"
   ]
  },
  {
   "cell_type": "markdown",
   "metadata": {
    "id": "OkRD_DM9ihMX"
   },
   "source": [
    "Discussion of results:\n",
    "\n",
    "1.According to the plot of volatility series, there exists a stylized fact called volaitility clustering, which is especially pronounced during systemic volatile period like 2008 financial crisis and COVID-19\n",
    "\n",
    "2.According to the diagnostic check of shocks, neither volatility clustering nor significant autocorrelation appears, which make it convinced that GARCH(1,1) is sufficient\n",
    "\n",
    "3.According to the GARCH model,the varience forecast for 2020.03.13 is strongly affected by the return or shocks on 2020.03.12. On that day, because of the huge impact of COVID on economy，the US market returns crashed, which display the largest drawdown in the histoty. As a result, the forecast of varience on March 13 is quite large due to the marcro economic impact."
   ]
  },
  {
   "cell_type": "markdown",
   "metadata": {
    "id": "1gvzzjkHihMY"
   },
   "source": [
    "## Question 2: Monte Carlo Simulation of 10-day ahead VaR [25 pts.]\n",
    "We use Monte Carlo simulation to obtain the 10-day ahead Value-at-Risk forecast at $p=0.01$, 10-days ahead of 12 March 2020. \n",
    "\n",
    "A 'code skeleton' is included below, which you should complete. Implement steps A to F:\n",
    "\n",
    "* A: Replace `x` with the fitted GARCH model object generated by the `.fit()` method in the previous question.\n",
    "* B: For date $T+k$, $k=1$ we know the conditional variance forecast. Replace `xx` with the value you obtained for 13 March 2020 in the previous question.\n",
    "* C: For dates $T+k$, $k > 1$ we use the GARCH model specification. Replace `xxx` with the GARCH equation: $\\sigma_{T+k}^2 = \\omega + \\alpha (\\sigma_{T+k-1} z_{T+k-1})^2 + \\beta \\sigma_{T+k-1}^2$, using your estimated parameters (see Step A).\n",
    "* D: Replace `xxxx` with the proper definition of the K-day holding return.\n",
    "* E: Obtain the K-day Value-at-Risk forecast using the sample percentile: $VaR^p_{T+1:T+K} = -Percentile\\bigl\\{\\{\\check{R}_{i,T+1:T+K}\\}_{i=1}^{MC},100p\\bigr\\}$, with $\\{\\check{R}_{i,T+1:T+K}\\}_{i=1}^{MC}$ the simulated $K$-day returns. (Hint: use the `numpy` function `np.percentile`.)\n",
    "\n",
    "Plot the histogram of $\\{\\check{R}_{i,T+1:T+K}\\}_{i=1}^{MC}$, and estimate the skewness and excess kurtosis of the sample. Compare the MCS estimate of the 10-day VaR, with the 'square-root rule' VaR, $\\sqrt{K} \\, VaR^p_{T+1}$. Discuss your results. Can you give a reason why you find the specific ranking of VaR values?\n"
   ]
  },
  {
   "cell_type": "code",
   "execution_count": 4,
   "metadata": {
    "colab": {
     "base_uri": "https://localhost:8080/",
     "height": 94
    },
    "id": "XVYE1nCUgHHD",
    "outputId": "ea1cf0fb-1a8f-43a9-b0a2-82fd3fc9ebd0"
   },
   "outputs": [
    {
     "data": {
      "text/html": [
       "<div>\n",
       "<style scoped>\n",
       "    .dataframe tbody tr th:only-of-type {\n",
       "        vertical-align: middle;\n",
       "    }\n",
       "\n",
       "    .dataframe tbody tr th {\n",
       "        vertical-align: top;\n",
       "    }\n",
       "\n",
       "    .dataframe thead th {\n",
       "        text-align: right;\n",
       "    }\n",
       "</style>\n",
       "<table border=\"1\" class=\"dataframe\">\n",
       "  <thead>\n",
       "    <tr style=\"text-align: right;\">\n",
       "      <th></th>\n",
       "      <th></th>\n",
       "    </tr>\n",
       "  </thead>\n",
       "  <tbody>\n",
       "    <tr>\n",
       "      <th>MCS VaR</th>\n",
       "      <td>35.090429</td>\n",
       "    </tr>\n",
       "    <tr>\n",
       "      <th>Square-root rule VaR</th>\n",
       "      <td>36.534802</td>\n",
       "    </tr>\n",
       "  </tbody>\n",
       "</table>\n",
       "</div>"
      ],
      "text/plain": [
       "                               \n",
       "MCS VaR               35.090429\n",
       "Square-root rule VaR  36.534802"
      ]
     },
     "execution_count": 4,
     "metadata": {},
     "output_type": "execute_result"
    }
   ],
   "source": [
    "MC = 10000 # amount of Monte Carlo replications\n",
    "VaR_level = 0.01 # the Value-at-Risk parameter `p`\n",
    "\n",
    "K= 10 # The parameter K determins the length of the holding period, so we obtain a K-day return\n",
    "\n",
    "# Obtain the GARCH parameters from `x`, the fitted model object generated by the .fit() method in the previous question\n",
    "#---! STEP A:\n",
    "[mu,omega,alpha,beta,d1] = res.params\n",
    "d1=res.params[4]\n",
    "# initialize a (MC x 1) vector to store the cumulative returns generated in the MC Monte Carlo replications\n",
    "sim_cumulative_returns = np.zeros([MC,1])\n",
    "\n",
    "# simulate the shocks \n",
    "sim_shocks = np.sqrt((d1 - 2) / d1) * stats.t.rvs(d1, size=[K,MC]) \n",
    "\n",
    "for i in range(MC): # we enter the `for loop' of Monte Carlo replications. In each iteration we compute a 10-day ahead return\n",
    "    \n",
    "    # initialize a (K x 1) return vector which will be filled with simulated returns for dates t+1,...,t+K (the vector is refreshed every Monte Carlo iteration)\n",
    "    sim_returns = np.zeros([K,1])\n",
    "    \n",
    "    # initialize a (K x 1) conditional variance vector (the vector is refreshed every Monte Carlo iteration)\n",
    "    sim_condvariance = np.zeros([K,1])\n",
    "    \n",
    "    for k in range(K): # we now generate K consecutive returns by iterating the volatility process, and utilizing the random shock draws\n",
    "        \n",
    "        if k == 0: # note that Python indexes the first element in a loop or vector as '0'\n",
    "            # on the first day of the holding period we can use the 1-day ahead GARCH volatility forecast\n",
    "            #---! STEP B:\n",
    "            sim_condvariance[k] = var\n",
    "        elif k > 0: # for further days in the future we use the garch equation putting in the simulated shocks\n",
    "            #---! STEP C:\n",
    "            sim_condvariance[k] = omega+alpha*((np.sqrt(sim_condvariance[k-1])*sim_shocks[k-1,i])**2)+beta*sim_condvariance[k-1]        \n",
    "        # calculate and save the simulated return\n",
    "        sim_returns[k] = mu + np.sqrt(sim_condvariance[k]) * sim_shocks[k,i];    \n",
    "        \n",
    "    # estimate cumulative holding period return and save it as element 'i' in the (MC x 1) vector of sim_cumulative_returns\n",
    "    #---! STEP D: \n",
    "    sim_cumulative_returns[i]= sim_returns.sum(axis=0)\n",
    "            \n",
    "# now we have simulated the cumulative returns for each of our Monte Carlo iterations we can estimate the Value-at-Risk using the sample percentile function\n",
    "#---! Step E:\n",
    "VaR=-np.percentile(sim_cumulative_returns,100*VaR_level)\n",
    "\n",
    "#risk metric VaR\n",
    "quantilie=np.sqrt((d1-2)/d1)*stats.t.ppf(0.01,d1,loc=0,scale=1)\n",
    "VaR2= -np.sqrt(10)*(np.sqrt(var)*quantilie) # here var is the predicted variance in question 1\n",
    "\n",
    "pd.DataFrame(data=[VaR,VaR2],index=['MCS VaR','Square-root rule VaR'],columns=[' '])"
   ]
  },
  {
   "cell_type": "code",
   "execution_count": 5,
   "metadata": {
    "colab": {
     "base_uri": "https://localhost:8080/",
     "height": 523
    },
    "id": "5rLIEA-rgHHE",
    "outputId": "6260b679-726a-4270-e386-c38752d7ef2e"
   },
   "outputs": [
    {
     "name": "stderr",
     "output_type": "stream",
     "text": [
      "/Users/a32294/opt/anaconda3/lib/python3.8/site-packages/seaborn/distributions.py:2551: FutureWarning: `distplot` is a deprecated function and will be removed in a future version. Please adapt your code to use either `displot` (a figure-level function with similar flexibility) or `histplot` (an axes-level function for histograms).\n",
      "  warnings.warn(msg, FutureWarning)\n"
     ]
    },
    {
     "data": {
      "image/png": "[encoded data removed]",
      "text/plain": [
       "<Figure size 576x432 with 1 Axes>"
      ]
     },
     "metadata": {
      "needs_background": "light"
     },
     "output_type": "display_data"
    },
    {
     "data": {
      "text/html": [
       "<div>\n",
       "<style scoped>\n",
       "    .dataframe tbody tr th:only-of-type {\n",
       "        vertical-align: middle;\n",
       "    }\n",
       "\n",
       "    .dataframe tbody tr th {\n",
       "        vertical-align: top;\n",
       "    }\n",
       "\n",
       "    .dataframe thead th {\n",
       "        text-align: right;\n",
       "    }\n",
       "</style>\n",
       "<table border=\"1\" class=\"dataframe\">\n",
       "  <thead>\n",
       "    <tr style=\"text-align: right;\">\n",
       "      <th></th>\n",
       "      <th></th>\n",
       "    </tr>\n",
       "  </thead>\n",
       "  <tbody>\n",
       "    <tr>\n",
       "      <th>Kurtosis</th>\n",
       "      <td>2.532780</td>\n",
       "    </tr>\n",
       "    <tr>\n",
       "      <th>Skewness</th>\n",
       "      <td>0.140821</td>\n",
       "    </tr>\n",
       "  </tbody>\n",
       "</table>\n",
       "</div>"
      ],
      "text/plain": [
       "                  \n",
       "Kurtosis  2.532780\n",
       "Skewness  0.140821"
      ]
     },
     "execution_count": 5,
     "metadata": {},
     "output_type": "execute_result"
    }
   ],
   "source": [
    "#plot the histogram\n",
    "plt.figure(figsize=(8,6))\n",
    "sns.distplot(sim_cumulative_returns,hist=True,kde=False)\n",
    "plt.legend(['$R_{t+1:t+10}$'])\n",
    "plt.title('MC simulation 10-day 1% VaR, 13 March 2020:')\n",
    "plt.show()\n",
    "# generate skewness and excess kurtosis\n",
    "R_ku = pd.DataFrame(sim_cumulative_returns).kurtosis()\n",
    "R_sc = pd.DataFrame(sim_cumulative_returns).skew()\n",
    "pd.DataFrame(data=[R_ku.values,R_sc.values],index=['Kurtosis','Skewness'],columns=[''])"
   ]
  },
  {
   "cell_type": "markdown",
   "metadata": {
    "id": "60C90oALLThc"
   },
   "source": [
    "Discussion of results: \n",
    "\n",
    "1.It's clear that 'square-root rule' VaR is larger than the one simulated from Monte Carlo Simulation. The reason could be 'square-root rule' assume that volatility keep constant from t=T+1 to t=T+10, while in Monte Carlo Simulation, the volatility of this 10 days shrinks in fact.Because on 2020.3.12 the stocks on US market crashed, the forecast of volatlity on 2020.3.13 is largely impacted by the abnormal fluctuation. Therefore the VaR obtained from Monte Carlo Simulation is slightly smaller than the one generated from 'square-root rule'.\n",
    "2.Besides, we can find that there exists positive skewness and positive excess kurtosis from the code above, which implied the fat-tail and more negative returns phenomenon, and it is consistent with the finance theory."
   ]
  },
  {
   "cell_type": "markdown",
   "metadata": {
    "id": "63Thc8rvtK0y"
   },
   "source": [
    "## Question 3: Copula [15 pts.]\n",
    "\n",
    "Suppose we have estimated another GARCH model for the FTSE index returns. Once we have the shocks of both assets, we estimate a bivariate normal copula model, and find an estimate for the copula correlation parameter, $\\hat{\\rho} = 0.80$. We want to simulate standardized $t$-shocks for the AEX and FTSE index returns, with the dependence between shocks modelled by this normal copula.\n",
    "\n",
    "Below we have included code that performs simulation from the normal copula. \n",
    "\n",
    "Explain in detail what steps A to D achieve. Also explain how the scatter plot created at the end of the code shows the difference in correlation between the two sets of shocks, as well as the difference in fat-tailedness.\n",
    "\n"
   ]
  },
  {
   "cell_type": "code",
   "execution_count": 6,
   "metadata": {
    "colab": {
     "base_uri": "https://localhost:8080/",
     "height": 299
    },
    "id": "JKCTiFgjihMb",
    "outputId": "122a677c-1c81-4ecb-d346-c733232fe571"
   },
   "outputs": [
    {
     "data": {
      "text/plain": [
       "<matplotlib.collections.PathCollection at 0x7f81d19d5ac0>"
      ]
     },
     "execution_count": 6,
     "metadata": {},
     "output_type": "execute_result"
    },
    {
     "data": {
      "image/png": "[encoded data removed]",
      "text/plain": [
       "<Figure size 432x288 with 1 Axes>"
      ]
     },
     "metadata": {
      "needs_background": "light"
     },
     "output_type": "display_data"
    }
   ],
   "source": [
    "# simulate the copula shocks\n",
    "\n",
    "copula_corr = 0.80 # the parameter rho\n",
    "d_1 = d1; # degrees of freedom parameter for standardized t distribition of AEX shock \n",
    "d_2 = d1; # degrees of freedom parameter for standardized t distribition of FTSE shock\n",
    "\n",
    "#---! STEP A:\n",
    "sim_uncorrelated_normal_shocks = stats.norm.rvs(size=[K,MC,2]) # result is a (K x MC x 2) array\n",
    "\n",
    "#---! STEP B:\n",
    "sim_correlated_normal_shocks = np.zeros([K,MC,2])\n",
    "sim_correlated_normal_shocks[:,:,0] = sim_uncorrelated_normal_shocks[:,:,0]\n",
    "sim_correlated_normal_shocks[:,:,1] = copula_corr * sim_uncorrelated_normal_shocks[:,:,0] + np.sqrt(1 - copula_corr**2) * sim_uncorrelated_normal_shocks[:,:,1] \n",
    "\n",
    "#---! STEP C:\n",
    "sim_normal_copula_shocks = stats.norm.cdf(sim_correlated_normal_shocks)\n",
    "\n",
    "#---! STEP D: \n",
    "sim_new_shocks = np.zeros([K,MC,2])\n",
    "sim_new_shocks[:,:,0] = np.sqrt((d_1 - 2) / d_1) * stats.t.ppf(sim_normal_copula_shocks[:,:,0],d_1) \n",
    "sim_new_shocks[:,:,1] = np.sqrt((d_2 - 2) / d_2) * stats.t.ppf(sim_normal_copula_shocks[:,:,1],d_2) \n",
    "\n",
    "# create a scatter plot for MC shock vector draws\n",
    "plt.title('Figure 4: Scatter plot of uncorrelated normal vector draws')\n",
    "plt.scatter(sim_uncorrelated_normal_shocks[1,:,0], sim_uncorrelated_normal_shocks[1,:,1], alpha=0.5)\n",
    "\n",
    "plt.title('Figure 5: Scatter plot of final shock vector')\n",
    "plt.scatter(sim_new_shocks[1,:,0], sim_new_shocks[1,:,1], alpha=0.5)"
   ]
  },
  {
   "cell_type": "markdown",
   "metadata": {
    "id": "29NFIeVnihMc"
   },
   "source": [
    "Discussion of results:\n",
    "\n",
    "1.\n",
    "StepA:\n",
    "\n",
    "Construct an array （K,MC,2), produces a two-set random shocks(N(0,1)distribute) in which the first and the second column of are unrelated;K is days, MC is the amount of Monte Carlo replications, 2 represents we make 2  random data columns that there are independent from each other. So here we generated a three-dimension array with standard normal distribution draws as values.\n",
    "\n",
    "StepB: \n",
    "\n",
    "Firstly, We generates a zero array with size (K,MC,2),which should be the same size of step A, only difference is now numbers are all zero in this array which will be filled later;\n",
    "\n",
    "Secondly, we assigns the value of the frist column we made of stepA to the first column in this stepB array ; \n",
    "\n",
    "Finanlly, we use the second column generated by stepA times the copula correlation parameter to produce correlated shocks and followed by adding unrelated shocks times the sqaure root of (1 - copula correlation**2) at the same time. Generally this step we make it starts to be correlated.\n",
    "\n",
    "StepC: \n",
    "\n",
    "We use the cumulative distribution function(CDF)(stat.normal) to obtain normal copula shocks.\n",
    "\n",
    "StepD: \n",
    "The key of this step is to transfrom the normal correlated shocks to standized_t copula shocks.\n",
    "\n",
    "Firstly,We generates a zero array with size (K,MC,2) again just like what we did in stepB; \n",
    "\n",
    "Secondly,Asign the freedom parameter for standardized t distribition of AEX shock(d1) and FTFE shock(d2) with normal copula shocks  from stepC and mutiply with the results in step c by using the inverse function (stats.t.ppf).By doing so，we successfully get the standard t coupla shocks by using the normal coupla shocks in step C.\n",
    "\n",
    "\n",
    "Finally, we asign standardized 𝑡 -shocks for the AEX index returns to the first colum of new shock ,asign standardized 𝑡 -shocks for the FTSE index returnsto the second colum of new shock \n",
    "\n",
    "\n",
    "\n",
    "2.\n",
    "Difference in correlation and fat-tailness :\n",
    "\n",
    "In figure4,blue represent uncorrelated shock from step A,they are two set of independent data,set alpha =0.5\n",
    "\n",
    "Here, K=1,It describe in one day, the relationship of these two set of independent data. As showed, the distribution is random all over, with pure randome trend and less tailness.\n",
    "\n",
    "\n",
    "In figure5, it is new shock scatter plot which we simulate standardized t coupla shocks by analyzing t-distribution of AEX and FTFE index return, with the dependence between shocks modelled by this  copula \n",
    "\n",
    "it generally Orange represent correlated new shock,blue represent uncorrelated new shock.\n",
    "\n",
    "\n",
    "Orange has a significant linear correlation and a more obvious fat-tailness since Orange spots are more likely to be found outside of central clusters.While  blue has no significant correlation and fat-tailness "
   ]
  },
  {
   "cell_type": "markdown",
   "metadata": {
    "id": "96bSr4AHihMc"
   },
   "source": [
    "#### Question 4: MCS of an equal-weighted portfolio return [ 10 pts.]\n",
    "\n",
    "Adapt your MCS with the simulation scheme for the copula shocks above to obtain 10-day VaR forecasts for an equal-weighted portfolio in the AEX and FTSE indices, i.e. we create a portfolio of both assets with portfolio weights $w_1=w_2=0.5$. To circumvent further estimation, you may assume that the GARCH model parameters (including the degrees of freedom) for the AEX and FTSE returns are equal, that the conditional volatility $\\sigma_{t+1}$ is equal between assets, and take copula parameter $\\rho = 0.8$. \n",
    "\n",
    "How do your VaR estimates change when $\\rho$ is decreased? Given what you know of log returns and simple returns, how would you compute the simple portfolio returns `sim_cumulative_returns[i]` if our index returns, `R_AEX` and `R_FTSE`, are log returns?"
   ]
  },
  {
   "cell_type": "code",
   "execution_count": 7,
   "metadata": {
    "colab": {
     "base_uri": "https://localhost:8080/"
    },
    "id": "6O4cSUtxgHHI",
    "outputId": "72d46b44-3836-4583-e5ca-67a291572d06"
   },
   "outputs": [
    {
     "name": "stdout",
     "output_type": "stream",
     "text": [
      "Equal-weighted portfolio's VaR in %: 32.982885990490324\n"
     ]
    }
   ],
   "source": [
    "MC = 10000 # amount of Monte Carlo replications\n",
    "VaR_level = 0.01 # the Value-at-Risk parameter `p`\n",
    "copula_corr = 0.8 # copula_correlation\n",
    "\n",
    "K= 10 # The parameter K determins the length of the holding period, so we obtain a 10-day return\n",
    "\n",
    "[mu,omega,alpha,beta,d1] = res.params # Here assume that both AEX and FTSE share the same GARCH model parameters\n",
    "\n",
    "# initialize two (MC x 1) vectors to store the cumulative returns generated in the MC Monte Carlo replications\n",
    "sim_cumulative_returns = np.zeros([MC,1]) # for AEX index\n",
    "sim_cumulative_returns2 = np.zeros([MC,1])# For FTSE index\n",
    "portfolio = np.zeros([MC,1]) # The final equailly weighted portfolio\n",
    "\n",
    "# simulate the shocks \n",
    "d_1 = d1; # degrees of freedom parameter for standardized t distribition of AEX shock \n",
    "d_2 = d1; # degrees of freedom parameter for standardized t distribition of FTSE shock\n",
    "\n",
    "#Simulated 2 correlated shocks and stored them in sim_correlated_normal_shocks vector\n",
    "sim_uncorrelated_normal_shocks = stats.norm.rvs(size=[K,MC,2]) # result is a (K x MC x 2) array\n",
    "sim_correlated_normal_shocks = np.zeros([K,MC,2])\n",
    "sim_correlated_normal_shocks[:,:,0] = sim_uncorrelated_normal_shocks[:,:,0]\n",
    "sim_correlated_normal_shocks[:,:,1] = copula_corr * sim_uncorrelated_normal_shocks[:,:,0] + np.sqrt(1 - copula_corr**2) * sim_uncorrelated_normal_shocks[:,:,1] \n",
    "\n",
    "#get the cumulative distribution function to produce normal corpula\n",
    "sim_normal_copula_shocks = stats.norm.cdf(sim_correlated_normal_shocks)\n",
    "\n",
    "# generates new shock to simulate standardized t-shock.By analyzing t-distribution of normal copula from step above.\n",
    "sim_new_shocks = np.zeros([K,MC,2])\n",
    "sim_new_shocks[:,:,0] = np.sqrt((d_1 - 2) / d_1) * stats.t.ppf(sim_normal_copula_shocks[:,:,0],d_1) \n",
    "sim_new_shocks[:,:,1] = np.sqrt((d_2 - 2) / d_2) * stats.t.ppf(sim_normal_copula_shocks[:,:,1],d_2) \n",
    "\n",
    "sim_shocks = sim_new_shocks\n",
    "\n",
    "\n",
    "for i in range(MC): # we enter the `for loop' of Monte Carlo replications. In each iteration we compute a 10-day ahead return\n",
    "\n",
    "    # initialize 2 (K x 1) return vectors which will be filled with simulated returns for dates t+1,...,t+K (the vector is refreshed every Monte Carlo iteration)\n",
    "    sim_returns = np.zeros([K,1])\n",
    "    sim_returns2 = np.zeros([K,1])\n",
    "\n",
    "    # initialize 2 (K x 1) conditional variance vectors (the vector is refreshed every Monte Carlo iteration)\n",
    "    sim_condvariance = np.zeros([K,1])\n",
    "    sim_condvariance2 = np.zeros([K,1])\n",
    "\n",
    "    for k in range(K): # we now generate K consecutive returns by iterating the volatility process, and utilizing the random shock draws\n",
    "\n",
    "        if k == 0:\n",
    "            # on the first day of the holding period we can use the 1-day ahead GARCH volatility forecast\n",
    "            sim_condvariance[k] = var \n",
    "            sim_condvariance2[k] = var\n",
    "        elif k > 0: # for further days in the future we use the garch equation putting in the simulated shocks\n",
    "            #---! STEP C:\n",
    "            sim_condvariance[k] = omega+alpha*((np.sqrt(sim_condvariance[k-1])*sim_shocks[k-1,i,0]))**2+beta*sim_condvariance[k-1]     \n",
    "            sim_condvariance2[k] = omega+alpha*((np.sqrt(sim_condvariance2[k-1])*sim_shocks[k-1,i,1]))**2+beta*sim_condvariance2[k-1]        \n",
    "        # calculate and save the simulated return\n",
    "        sim_returns[k] = mu + np.sqrt(sim_condvariance[k]) * sim_shocks[k,i,0];  \n",
    "        sim_returns2[k] = mu + np.sqrt(sim_condvariance2[k]) * sim_shocks[k,i,1];\n",
    "\n",
    "    # estimate cumulative holding period return and save it as element 'i' in the (MC x 1) vector of sim_cumulative_returns\n",
    "    #---! STEP D: \n",
    "    sim_cumulative_returns[i]= sim_returns.sum(axis=0)\n",
    "    sim_cumulative_returns2[i]= sim_returns2.sum(axis=0)\n",
    "    # get the equal-weighted portfolio return\n",
    "    portfolio[i] = 0.5*(sim_cumulative_returns[i] + sim_cumulative_returns2[i])        \n",
    "# now we have simulated the cumulative returns for each of our Monte Carlo iterations we can estimate the Value-at-Risk using the sample percentile function\n",
    "\n",
    "VaR= - np.percentile(portfolio,100 * VaR_level)\n",
    "print(\"Equal-weighted portfolio's VaR in %:\",VaR)"
   ]
  },
  {
   "cell_type": "code",
   "execution_count": 8,
   "metadata": {
    "colab": {
     "base_uri": "https://localhost:8080/",
     "height": 394
    },
    "id": "CBIAS1S8BOhu",
    "outputId": "82984975-6679-41cf-d157-ceacf896755f",
    "scrolled": true
   },
   "outputs": [
    {
     "data": {
      "text/html": [
       "<div>\n",
       "<style scoped>\n",
       "    .dataframe tbody tr th:only-of-type {\n",
       "        vertical-align: middle;\n",
       "    }\n",
       "\n",
       "    .dataframe tbody tr th {\n",
       "        vertical-align: top;\n",
       "    }\n",
       "\n",
       "    .dataframe thead th {\n",
       "        text-align: right;\n",
       "    }\n",
       "</style>\n",
       "<table border=\"1\" class=\"dataframe\">\n",
       "  <thead>\n",
       "    <tr style=\"text-align: right;\">\n",
       "      <th></th>\n",
       "      <th>VaR</th>\n",
       "    </tr>\n",
       "    <tr>\n",
       "      <th>Rho</th>\n",
       "      <th></th>\n",
       "    </tr>\n",
       "  </thead>\n",
       "  <tbody>\n",
       "    <tr>\n",
       "      <th>1.000000</th>\n",
       "      <td>35.418808</td>\n",
       "    </tr>\n",
       "    <tr>\n",
       "      <th>0.888889</th>\n",
       "      <td>35.277087</td>\n",
       "    </tr>\n",
       "    <tr>\n",
       "      <th>0.777778</th>\n",
       "      <td>33.104854</td>\n",
       "    </tr>\n",
       "    <tr>\n",
       "      <th>0.666667</th>\n",
       "      <td>31.318471</td>\n",
       "    </tr>\n",
       "    <tr>\n",
       "      <th>0.555556</th>\n",
       "      <td>31.192328</td>\n",
       "    </tr>\n",
       "    <tr>\n",
       "      <th>0.444444</th>\n",
       "      <td>29.424253</td>\n",
       "    </tr>\n",
       "    <tr>\n",
       "      <th>0.333333</th>\n",
       "      <td>27.527295</td>\n",
       "    </tr>\n",
       "    <tr>\n",
       "      <th>0.222222</th>\n",
       "      <td>27.148552</td>\n",
       "    </tr>\n",
       "    <tr>\n",
       "      <th>0.111111</th>\n",
       "      <td>24.792111</td>\n",
       "    </tr>\n",
       "    <tr>\n",
       "      <th>0.000000</th>\n",
       "      <td>24.303213</td>\n",
       "    </tr>\n",
       "  </tbody>\n",
       "</table>\n",
       "</div>"
      ],
      "text/plain": [
       "                VaR\n",
       "Rho                \n",
       "1.000000  35.418808\n",
       "0.888889  35.277087\n",
       "0.777778  33.104854\n",
       "0.666667  31.318471\n",
       "0.555556  31.192328\n",
       "0.444444  29.424253\n",
       "0.333333  27.527295\n",
       "0.222222  27.148552\n",
       "0.111111  24.792111\n",
       "0.000000  24.303213"
      ]
     },
     "execution_count": 8,
     "metadata": {},
     "output_type": "execute_result"
    }
   ],
   "source": [
    "def get_VaR(copula_corr=0.80):\n",
    "    # input setting\n",
    "    MC = 10000 # amount of Monte Carlo replications\n",
    "    VaR_level= 0.01 # the Value-at-Risk parameter `p`\n",
    "    K= 10 # The parameter K determins the length of the holding period, so we obtain a 10-day return\n",
    "    [mu,omega,alpha,beta,d1] = res.params # Here assume that both AEX and FTSE share the same GARCH model parameters\n",
    "\n",
    "    # initialize two (MC x 1) vectors to store the cumulative returns generated in the MC Monte Carlo replications\n",
    "    sim_cumulative_returns = np.zeros([MC,1]) # for AEX index\n",
    "    sim_cumulative_returns2 = np.zeros([MC,1])# For FTSE index\n",
    "    portfolio = np.zeros([MC,1]) # The final equailly weighted portfolio\n",
    "    # simulate the shocks \n",
    "    d_1 = d1; # degrees of freedom parameter for standardized t distribition of AEX shock \n",
    "    d_2 = d1; # degrees of freedom parameter for standardized t distribition of FTSE shock\n",
    "\n",
    "    #Simulated 2 correlated shocks and stored them in sim_correlated_normal_shocks vector\n",
    "    sim_uncorrelated_normal_shocks = stats.norm.rvs(size=[K,MC,2]) # result is a (K x MC x 2) array\n",
    "    sim_correlated_normal_shocks = np.zeros([K,MC,2])\n",
    "    sim_correlated_normal_shocks[:,:,0] = sim_uncorrelated_normal_shocks[:,:,0]\n",
    "    sim_correlated_normal_shocks[:,:,1] = copula_corr * sim_uncorrelated_normal_shocks[:,:,0] + np.sqrt(1 - copula_corr**2) * sim_uncorrelated_normal_shocks[:,:,1] \n",
    "\n",
    "    #get the cumulative distribution function to produce normal corpula\n",
    "    sim_normal_copula_shocks = stats.norm.cdf(sim_correlated_normal_shocks)\n",
    "\n",
    "    # generates new shock to simulate standardized t-shock.By analyzing t-distribution of normal copula from step above.\n",
    "    sim_new_shocks = np.zeros([K,MC,2])\n",
    "    sim_new_shocks[:,:,0] = np.sqrt((d_1 - 2) / d_1) * stats.t.ppf(sim_normal_copula_shocks[:,:,0],d_1) \n",
    "    sim_new_shocks[:,:,1] = np.sqrt((d_2 - 2) / d_2) * stats.t.ppf(sim_normal_copula_shocks[:,:,1],d_2) \n",
    "\n",
    "    sim_shocks = sim_new_shocks\n",
    "\n",
    "\n",
    "    for i in range(MC): # we enter the `for loop' of Monte Carlo replications. In each iteration we compute a 10-day ahead return\n",
    "\n",
    "        # initialize 2 (K x 1) return vectors which will be filled with simulated returns for dates t+1,...,t+K (the vector is refreshed every Monte Carlo iteration)\n",
    "        sim_returns = np.zeros([K,1])\n",
    "        sim_returns2 = np.zeros([K,1])\n",
    "\n",
    "        # initialize 2 (K x 1) conditional variance vectors (the vector is refreshed every Monte Carlo iteration)\n",
    "        sim_condvariance = np.zeros([K,1])\n",
    "        sim_condvariance2 = np.zeros([K,1])\n",
    "\n",
    "        for k in range(K): # we now generate K consecutive returns by iterating the volatility process, and utilizing the random shock draws\n",
    "\n",
    "            if k == 0:\n",
    "                # on the first day of the holding period we can use the 1-day ahead GARCH volatility forecast\n",
    "                sim_condvariance[k] = var \n",
    "                sim_condvariance2[k] = var\n",
    "            elif k > 0: # for further days in the future we use the garch equation putting in the simulated shocks\n",
    "                #---! STEP C:\n",
    "                sim_condvariance[k] = omega+alpha*((np.sqrt(sim_condvariance[k-1])*sim_shocks[k-1,i,0]))**2+beta*sim_condvariance[k-1]     \n",
    "                sim_condvariance2[k] = omega+alpha*((np.sqrt(sim_condvariance2[k-1])*sim_shocks[k-1,i,1]))**2+beta*sim_condvariance2[k-1]        \n",
    "            # calculate and save the simulated return\n",
    "            sim_returns[k] = mu + np.sqrt(sim_condvariance[k]) * sim_shocks[k,i,0];  \n",
    "            sim_returns2[k] = mu + np.sqrt(sim_condvariance2[k]) * sim_shocks[k,i,1];\n",
    "\n",
    "        # estimate cumulative holding period return and save it as element 'i' in the (MC x 1) vector of sim_cumulative_returns\n",
    "        #---! STEP D: \n",
    "        sim_cumulative_returns[i]= sim_returns.sum(axis=0)\n",
    "        sim_cumulative_returns2[i]= sim_returns2.sum(axis=0)\n",
    "        # get the equal-weighted portfolio return\n",
    "        portfolio[i] = 0.5*(sim_cumulative_returns[i] + sim_cumulative_returns2[i])        \n",
    "    # now we have simulated the cumulative returns for each of our Monte Carlo iterations we can estimate the Value-at-Risk using the sample percentile function\n",
    "\n",
    "    VaR= - np.percentile(portfolio,100 * VaR_level)\n",
    "    return VaR\n",
    "    \n",
    "# find the relationship of Rho and VaR\n",
    "VaR = {}\n",
    "for i in np.linspace(1,0,10):# input 10 Rhos between 0 to 1\n",
    "    VaR.update({i:get_VaR(i)})\n",
    "    \n",
    "a = pd.DataFrame(data=VaR.values(),index=VaR.keys(),columns=['VaR'])\n",
    "a.index.name='Rho'\n",
    "a"
   ]
  },
  {
   "cell_type": "code",
   "execution_count": 9,
   "metadata": {
    "colab": {
     "base_uri": "https://localhost:8080/",
     "height": 295
    },
    "id": "p7BTaRpegHHJ",
    "outputId": "5e34bf66-11b9-47c1-ca69-b9586884855c"
   },
   "outputs": [
    {
     "data": {
      "image/png": "[encoded data removed]",
      "text/plain": [
       "<Figure size 432x288 with 1 Axes>"
      ]
     },
     "metadata": {
      "needs_background": "light"
     },
     "output_type": "display_data"
    }
   ],
   "source": [
    "a.plot(title=['Fig1:VaR and rho'],subplots=True,legend=False,xlabel='Rho',ylabel='VaR %');"
   ]
  },
  {
   "cell_type": "code",
   "execution_count": 10,
   "metadata": {
    "colab": {
     "base_uri": "https://localhost:8080/"
    },
    "id": "QEZH05pcgHHK",
    "outputId": "c0459b8b-af45-4b66-8ab1-a2ada34f4ea3"
   },
   "outputs": [
    {
     "data": {
      "text/plain": [
       "22.71460450237795"
      ]
     },
     "execution_count": 10,
     "metadata": {},
     "output_type": "execute_result"
    }
   ],
   "source": [
    "MC = 100 # amount of Monte Carlo replications\n",
    "VaR_level = 0.01 # the Value-at-Risk parameter `p`\n",
    "copula_corr=0.80\n",
    "\n",
    "K= 10 # The parameter K determins the length of the holding period, so we obtain a K-day return\n",
    "\n",
    "# Obtain the GARCH parameters from `x`, the fitted model object generated by the .fit() method in the previous question\n",
    "#---! STEP A:\n",
    "[mu,omega,alpha,beta,d1] = res.params\n",
    "\n",
    "# initialize a (MC x 1) vector to store the cumulative returns generated in the MC Monte Carlo replications\n",
    "sim_cumulative_returns = np.zeros([MC,1])\n",
    "sim_cumulative_returns2 = np.zeros([MC,1])\n",
    "portfolio = np.zeros([MC,1])\n",
    "\n",
    "\n",
    "# simulate the shocks \n",
    "d_1 = d1; # degrees of freedom parameter for standardized t distribition of AEX shock \n",
    "d_2 = d1; # degrees of freedom parameter for standardized t distribition of FTSE shock\n",
    "\n",
    "\n",
    "sim_uncorrelated_normal_shocks = stats.norm.rvs(size=[K,MC,2]) # result is a (K x MC x 2) array\n",
    "\n",
    "\n",
    "sim_correlated_normal_shocks = np.zeros([K,MC,2])\n",
    "sim_correlated_normal_shocks[:,:,0] = sim_uncorrelated_normal_shocks[:,:,0]\n",
    "sim_correlated_normal_shocks[:,:,1] = copula_corr * sim_uncorrelated_normal_shocks[:,:,0] + np.sqrt(1 - copula_corr**2) * sim_uncorrelated_normal_shocks[:,:,1] \n",
    "\n",
    "\n",
    "sim_normal_copula_shocks = stats.norm.cdf(sim_correlated_normal_shocks)\n",
    "\n",
    " \n",
    "sim_new_shocks = np.zeros([K,MC,2])\n",
    "sim_new_shocks[:,:,0] = np.sqrt((d_1 - 2) / d_1) * stats.t.ppf(sim_normal_copula_shocks[:,:,0],d_1) \n",
    "sim_new_shocks[:,:,1] = np.sqrt((d_2 - 2) / d_2) * stats.t.ppf(sim_normal_copula_shocks[:,:,1],d_2) \n",
    "\n",
    "sim_shocks = sim_new_shocks\n",
    "\n",
    "\n",
    "for i in range(MC): # we enter the `for loop' of Monte Carlo replications. In each iteration we compute a 10-day ahead return\n",
    "\n",
    "    # initialize 2 (K x 1) return vectors which will be filled with simulated returns for dates t+1,...,t+K (the vector is refreshed every Monte Carlo iteration)\n",
    "    sim_returns = np.zeros([K,1])\n",
    "    sim_returns2 = np.zeros([K,1])\n",
    "\n",
    "    # initialize 2 (K x 1) conditional variance vectors (the vector is refreshed every Monte Carlo iteration)\n",
    "    sim_condvariance = np.zeros([K,1])\n",
    "    sim_condvariance2 = np.zeros([K,1])\n",
    "\n",
    "    for k in range(K): # we now generate K consecutive returns by iterating the volatility process, and utilizing the random shock draws\n",
    "\n",
    "        if k == 0: # note that Python indexes the first element in a loop or vector as '0'\n",
    "            # on the first day of the holding period we can use the 1-day ahead GARCH volatility forecast\n",
    "            #---! STEP B:\n",
    "            sim_condvariance[k] = var\n",
    "            sim_condvariance2[k] = var\n",
    "        elif k > 0: # for further days in the future we use the garch equation putting in the simulated shocks\n",
    "\n",
    "            sim_condvariance[k] = omega+alpha*((np.sqrt(sim_condvariance[k-1])*sim_shocks[k-1,i,0]))**2+beta*sim_condvariance[k-1]     \n",
    "            sim_condvariance2[k] = omega+alpha*((np.sqrt(sim_condvariance2[k-1])*sim_shocks[k-1,i,1]))**2+beta*sim_condvariance2[k-1]        \n",
    "        # calculate and save the simulated return\n",
    "        sim_returns[k] = mu + np.sqrt(sim_condvariance[k]) * sim_shocks[k,i,0];  \n",
    "        sim_returns2[k] = mu + np.sqrt(sim_condvariance2[k]) * sim_shocks[k,i,1];\n",
    "\n",
    "    #Here we converted log return to simple return by set exp(log return for holding period) - 1\n",
    "    sim_cumulative_returns[i]= np.exp(sim_returns.sum(axis=0)/100) - 1 # Generated simple return in %\n",
    "    sim_cumulative_returns2[i]= np.exp(sim_returns2.sum(axis=0)/100) - 1 # Generated simple return in %\n",
    "    portfolio[i] = 0.5*(sim_cumulative_returns[i] + sim_cumulative_returns2[i])        \n",
    "    # now we have simulated the cumulative returns for each of our Monte Carlo iterations we can estimate the Value-at-Risk using the sample percentile function\n",
    "\n",
    "VaR= - np.percentile(portfolio,100 * VaR_level) * 100\n",
    "VaR"
   ]
  },
  {
   "cell_type": "markdown",
   "metadata": {
    "id": "TWv7O0xZihMd"
   },
   "source": [
    "Discussion of results:  \n",
    "\n",
    "1.As fig1 shows,when Rho decreases, VaR in % is also decreases.\n",
    "\n",
    "2.Given what I know of log returns and simple returns, to compute the simple portfolio returns sim_cumulative_returns[i] if our index returns, R_AEX and R_FTSE, are log returns we should use the formula: \n",
    "\n",
    "simple return = exp(log return) - 1"
   ]
  }
 ],
 "metadata": {
  "colab": {
   "collapsed_sections": [],
   "name": "Assignment2_2022_(3) (1).ipynb",
   "provenance": []
  },
  "kernelspec": {
   "display_name": "Python 3",
   "language": "python",
   "name": "python3"
  },
  "language_info": {
   "codemirror_mode": {
    "name": "ipython",
    "version": 3
   },
   "file_extension": ".py",
   "mimetype": "text/x-python",
   "name": "python",
   "nbconvert_exporter": "python",
   "pygments_lexer": "ipython3",
   "version": "3.8.5"
  }
 },
 "nbformat": 4,
 "nbformat_minor": 1
}
